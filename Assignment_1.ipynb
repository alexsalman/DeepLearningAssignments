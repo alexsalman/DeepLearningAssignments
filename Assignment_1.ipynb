{
  "nbformat": 4,
  "nbformat_minor": 0,
  "metadata": {
    "colab": {
      "name": "Assignment 1.ipynb",
      "provenance": [],
      "include_colab_link": true
    },
    "kernelspec": {
      "name": "python3",
      "display_name": "Python 3"
    },
    "language_info": {
      "name": "python"
    }
  },
  "cells": [
    {
      "cell_type": "markdown",
      "metadata": {
        "id": "view-in-github",
        "colab_type": "text"
      },
      "source": [
        "<a href=\"https://colab.research.google.com/github/alexsalman/DeepLearningAssignments/blob/main/Assignment_1.ipynb\" target=\"_parent\"><img src=\"https://colab.research.google.com/assets/colab-badge.svg\" alt=\"Open In Colab\"/></a>"
      ]
    },
    {
      "cell_type": "code",
      "metadata": {
        "id": "2IlwhV0z2nMr"
      },
      "source": [
        "%matplotlib inline"
      ],
      "execution_count": null,
      "outputs": []
    },
    {
      "cell_type": "markdown",
      "metadata": {
        "id": "Chprzdhe2nMw"
      },
      "source": [
        "# Assignment 1\n",
        "\n",
        "**DUE: Sunday October 10 at 11:59pm**\n",
        "\n",
        "Turn in the assignment via Canvas.\n",
        "\n",
        "To write legible answers you will need to be familiar with both [Markdown](https://github.com/adam-p/markdown-here/wiki/Markdown-Cheatsheet) and [Latex](https://www.latex-tutorial.com/tutorials/amsmath/).\n",
        "\n",
        "Before you turn this problem in, make sure everything runs as expected. First, restart the kernel (in the menubar, select Runtime→→Restart runtime) and then run all cells (in the menubar, select Runtime→→Run All).\n",
        "\n",
        "Make sure you fill in any place that says \"YOUR CODE HERE\" or \"YOUR ANSWER HERE\", as well as your name below:"
      ]
    },
    {
      "cell_type": "code",
      "metadata": {
        "id": "8jeWubXE2nMx"
      },
      "source": [
        "NAME = \"\"\n",
        "STUDENT_ID = \"\""
      ],
      "execution_count": null,
      "outputs": []
    },
    {
      "cell_type": "markdown",
      "metadata": {
        "id": "Iri9DKKJJ7Ys"
      },
      "source": [
        "## Covid-19 Case Prediction\n",
        "\n",
        "In this Assignment you will learn:\n",
        "\n",
        "\n",
        "*   Solving a Regression problem using Deep Neural Networks\n",
        "*   Basic Deep Learning training tips such as hyperparameter tuning and optimization\n",
        "*   Get familiar with TensorFlow\n",
        "\n",
        "**Task:** Given the survey results in the past 2 days, in a specific State, predict the percentage of newly tested positive cases for the 3rd day (in percentage).\n",
        "\n",
        "Data includes the following information (each row includes features for all three days): \n",
        "\n",
        "*   States - Through 40 one-hot encoded State information\n",
        "*   Covid-like illnesses (cli, etc.) (4 features - in percentage)\n",
        "*   Behavior indicators (wearing masks, etc.) (8 features - in percentage)\n",
        "*   Mental health indicators (depressed, etc.) (5 features - in percentage)\n",
        "\n",
        "**Evaluation Metric**: Root Mean Squared Error\n",
        "\n",
        "\n",
        "\n"
      ]
    },
    {
      "cell_type": "code",
      "metadata": {
        "id": "Xnm4IUVn2va9"
      },
      "source": [
        "import numpy as np\n",
        "import pandas as pd\n",
        "!pip install PyDrive\n",
        "from pydrive.auth import GoogleAuth\n",
        "from pydrive.drive import GoogleDrive\n",
        "from google.colab import auth\n",
        "from oauth2client.client import GoogleCredentials"
      ],
      "execution_count": null,
      "outputs": []
    },
    {
      "cell_type": "code",
      "metadata": {
        "id": "osP9dVT02_m1"
      },
      "source": [
        "auth.authenticate_user()\n",
        "gauth = GoogleAuth()\n",
        "gauth.credentials = GoogleCredentials.get_application_default()\n",
        "drive = GoogleDrive(gauth)"
      ],
      "execution_count": null,
      "outputs": []
    },
    {
      "cell_type": "code",
      "metadata": {
        "id": "rYrU50rO2nN6"
      },
      "source": [
        "downloaded = drive.CreateFile({'id':\"1wrk4vvTxnp1_3Ftx7qp9uo4IUNBWPAA8\"}) \n",
        "downloaded.GetContentFile('covid.csv')\n",
        "\n",
        "# Finally we can actually read in the data.\n",
        "data = pd.read_csv('covid.csv')"
      ],
      "execution_count": null,
      "outputs": []
    },
    {
      "cell_type": "markdown",
      "metadata": {
        "id": "sHNDhkPRP904"
      },
      "source": [
        "### Part 1) Data preparation\n",
        "\n",
        "In this part you will complete the following steps to prepare your data for training:\n",
        "\n",
        "*   Understand the data,\n",
        "*   Separate label from features,\n",
        "*   Normalize features, and\n",
        "*   Split the data into train and test (and later validation)\n"
      ]
    },
    {
      "cell_type": "code",
      "metadata": {
        "id": "drSQdVltQzaG"
      },
      "source": [
        "## YOUR CODE HERE ##"
      ],
      "execution_count": null,
      "outputs": []
    },
    {
      "cell_type": "markdown",
      "metadata": {
        "id": "HWDo5FKLTe4P"
      },
      "source": [
        "### Part 2) Hyperparameeters and neural network training\n",
        "\n",
        "In this part you will be implementing a neural network and will investigate the impact of hyperparameters in model's performance.\n",
        "\n",
        "1.   Train a neural network with 2 layers (one hidden layer and one output layer).\n",
        "2.   Search for the most appropriate hyperparameter setting for your model. These hyperparameters include but not limited to (number of epochs, batch size, learning rate, optimizer, momentum).\n",
        "3. Describe your findings in the text cell below."
      ]
    },
    {
      "cell_type": "code",
      "metadata": {
        "id": "G99JWIfWVvn_"
      },
      "source": [
        "## YOUR CODE HERE ##"
      ],
      "execution_count": null,
      "outputs": []
    },
    {
      "cell_type": "markdown",
      "metadata": {
        "id": "LXePNMzFbgVb"
      },
      "source": [
        "[YOUR ANSWER HERE]"
      ]
    },
    {
      "cell_type": "markdown",
      "metadata": {
        "id": "miGfdMIvQ3Qf"
      },
      "source": [
        "### Part 3) Understanding neural network architecture\n",
        "\n",
        "In this part you will experiment with different deep neural network architectures to understand the impact of the architecture on model's accuracy and generalization.\n",
        "\n",
        "1.   Run an experiment on a 2-layer neural network to investigate the impact of the number of neurons in the hidden layer on model's performance on the training and test data. Plot the result of your experiment.\n",
        "\n",
        "2. Run the same experiment as the previous part but use depth 3 (2 hidden layers and one output layer). Plot the result of your experiment.\n",
        "\n",
        "3.   Run an experiment on the impact of the depth of the model on model's performance on the training and test data. For this experiment, use 5 neurons in each hidden layer. Plot the result of your experiment.\n",
        "\n",
        "4. Describe your findings in the text cell below.\n",
        "\n",
        "\n"
      ]
    },
    {
      "cell_type": "code",
      "metadata": {
        "id": "IFKDJdEQVwCU"
      },
      "source": [
        "## YOUR CODE HERE ##"
      ],
      "execution_count": null,
      "outputs": []
    },
    {
      "cell_type": "markdown",
      "metadata": {
        "id": "x5-tcdMJbm3O"
      },
      "source": [
        "[YOUR ANSWER HERE]"
      ]
    },
    {
      "cell_type": "markdown",
      "metadata": {
        "id": "Qb5SfS68WQvQ"
      },
      "source": [
        "### Part 4) Feature selection and final results\n",
        "\n",
        "Since the number of feeatures will impact model's complexity and that not all features contribute equally to the model's performance, in this part you are asked to perform feature selection, model training, and reporting final results.\n",
        "\n",
        "Your tasks are:\n",
        "1.   Based on the experiments you have conducted (and looking into the weights associated to features), perform feature selection.\n",
        "2. Train an optimum neural network architecture (you will need to do some experiments to find it) with appropriate hyperparameters (you will need to do hyperparameter tuning).\n",
        "3. Report the Loss of your model on both training and test data. In addition, plot the prediction vs. target labels for both training and test data.\n"
      ]
    },
    {
      "cell_type": "code",
      "metadata": {
        "id": "0T_N-dWYbN6G"
      },
      "source": [
        "## YOUR CODE HERE ##"
      ],
      "execution_count": null,
      "outputs": []
    },
    {
      "cell_type": "markdown",
      "metadata": {
        "id": "Oqbisi5bbpMB"
      },
      "source": [
        "[YOUR ANSWER HERE]"
      ]
    },
    {
      "cell_type": "markdown",
      "metadata": {
        "id": "Oh5IQlNTamT5"
      },
      "source": [
        "### Part 5) State-specific prediction\n",
        "\n",
        "Thinking about the structure of the data, please provide a description of technique(s) you can use to perform predictions for a given State based on its own data (which reduces the bias in prediction). "
      ]
    },
    {
      "cell_type": "markdown",
      "metadata": {
        "id": "7zc3hT0obP3X"
      },
      "source": [
        "[YOUR ANSWER HERE]"
      ]
    },
    {
      "cell_type": "markdown",
      "metadata": {
        "id": "hzmVLx9Abq1U"
      },
      "source": [
        "### (BONUS) Part 6) Implement one of your responses to the previous part for an extra credit\n",
        "\n",
        "To receive an extra credit, you should show the performance boost you observed for the State-specific architecture. "
      ]
    },
    {
      "cell_type": "code",
      "metadata": {
        "id": "UhXEnshFbOam"
      },
      "source": [
        "## YOUR CODE HERE ##"
      ],
      "execution_count": null,
      "outputs": []
    }
  ]
}