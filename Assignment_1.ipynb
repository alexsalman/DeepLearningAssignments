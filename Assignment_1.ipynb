{
  "nbformat": 4,
  "nbformat_minor": 0,
  "metadata": {
    "colab": {
      "name": "Assignment 1.ipynb",
      "provenance": [],
      "include_colab_link": true
    },
    "kernelspec": {
      "name": "python3",
      "display_name": "Python 3"
    },
    "language_info": {
      "name": "python"
    }
  },
  "cells": [
    {
      "cell_type": "markdown",
      "metadata": {
        "id": "view-in-github",
        "colab_type": "text"
      },
      "source": [
        "<a href=\"https://colab.research.google.com/github/alexsalman/DeepLearningAssignments/blob/main/Assignment_1.ipynb\" target=\"_parent\"><img src=\"https://colab.research.google.com/assets/colab-badge.svg\" alt=\"Open In Colab\"/></a>"
      ]
    },
    {
      "cell_type": "code",
      "metadata": {
        "id": "2IlwhV0z2nMr"
      },
      "source": [
        "%matplotlib inline"
      ],
      "execution_count": 1,
      "outputs": []
    },
    {
      "cell_type": "markdown",
      "metadata": {
        "id": "Chprzdhe2nMw"
      },
      "source": [
        "# Assignment 1\n",
        "\n",
        "**DUE: Sunday October 10 at 11:59pm**\n",
        "\n",
        "Turn in the assignment via Canvas.\n",
        "\n",
        "To write legible answers you will need to be familiar with both [Markdown](https://github.com/adam-p/markdown-here/wiki/Markdown-Cheatsheet) and [Latex](https://www.latex-tutorial.com/tutorials/amsmath/).\n",
        "\n",
        "Before you turn this problem in, make sure everything runs as expected. First, restart the kernel (in the menubar, select Runtime→→Restart runtime) and then run all cells (in the menubar, select Runtime→→Run All).\n",
        "\n",
        "Make sure you fill in any place that says \"YOUR CODE HERE\" or \"YOUR ANSWER HERE\", as well as your name below:"
      ]
    },
    {
      "cell_type": "code",
      "metadata": {
        "id": "8jeWubXE2nMx"
      },
      "source": [
        "NAME = \"\"\n",
        "STUDENT_ID = \"\""
      ],
      "execution_count": 2,
      "outputs": []
    },
    {
      "cell_type": "markdown",
      "metadata": {
        "id": "Iri9DKKJJ7Ys"
      },
      "source": [
        "## Covid-19 Case Prediction\n",
        "\n",
        "In this Assignment you will learn:\n",
        "\n",
        "\n",
        "*   Solving a Regression problem using Deep Neural Networks\n",
        "*   Basic Deep Learning training tips such as hyperparameter tuning and optimization\n",
        "*   Get familiar with TensorFlow\n",
        "\n",
        "**Task:** Given the survey results in the past 2 days, in a specific State, predict the percentage of newly tested positive cases for the 3rd day (in percentage).\n",
        "\n",
        "Data includes the following information (each row includes features for all three days): \n",
        "\n",
        "*   States - Through 40 one-hot encoded State information\n",
        "*   Covid-like illnesses (cli, etc.) (4 features - in percentage)\n",
        "*   Behavior indicators (wearing masks, etc.) (8 features - in percentage)\n",
        "*   Mental health indicators (depressed, etc.) (5 features - in percentage)\n",
        "\n",
        "**Evaluation Metric**: Root Mean Squared Error\n",
        "\n",
        "\n",
        "\n"
      ]
    },
    {
      "cell_type": "code",
      "metadata": {
        "id": "Xnm4IUVn2va9",
        "outputId": "8d8fe039-fa83-4fde-bcd9-edd4f4be55fd",
        "colab": {
          "base_uri": "https://localhost:8080/"
        }
      },
      "source": [
        "import numpy as np\n",
        "import pandas as pd\n",
        "!pip install PyDrive\n",
        "from pydrive.auth import GoogleAuth\n",
        "from pydrive.drive import GoogleDrive\n",
        "from google.colab import auth\n",
        "from oauth2client.client import GoogleCredentials"
      ],
      "execution_count": 3,
      "outputs": [
        {
          "output_type": "stream",
          "name": "stdout",
          "text": [
            "Requirement already satisfied: PyDrive in /usr/local/lib/python3.7/dist-packages (1.3.1)\n",
            "Requirement already satisfied: oauth2client>=4.0.0 in /usr/local/lib/python3.7/dist-packages (from PyDrive) (4.1.3)\n",
            "Requirement already satisfied: PyYAML>=3.0 in /usr/local/lib/python3.7/dist-packages (from PyDrive) (3.13)\n",
            "Requirement already satisfied: google-api-python-client>=1.2 in /usr/local/lib/python3.7/dist-packages (from PyDrive) (1.12.8)\n",
            "Requirement already satisfied: httplib2<1dev,>=0.15.0 in /usr/local/lib/python3.7/dist-packages (from google-api-python-client>=1.2->PyDrive) (0.17.4)\n",
            "Requirement already satisfied: six<2dev,>=1.13.0 in /usr/local/lib/python3.7/dist-packages (from google-api-python-client>=1.2->PyDrive) (1.15.0)\n",
            "Requirement already satisfied: google-auth>=1.16.0 in /usr/local/lib/python3.7/dist-packages (from google-api-python-client>=1.2->PyDrive) (1.35.0)\n",
            "Requirement already satisfied: uritemplate<4dev,>=3.0.0 in /usr/local/lib/python3.7/dist-packages (from google-api-python-client>=1.2->PyDrive) (3.0.1)\n",
            "Requirement already satisfied: google-auth-httplib2>=0.0.3 in /usr/local/lib/python3.7/dist-packages (from google-api-python-client>=1.2->PyDrive) (0.0.4)\n",
            "Requirement already satisfied: google-api-core<2dev,>=1.21.0 in /usr/local/lib/python3.7/dist-packages (from google-api-python-client>=1.2->PyDrive) (1.26.3)\n",
            "Requirement already satisfied: requests<3.0.0dev,>=2.18.0 in /usr/local/lib/python3.7/dist-packages (from google-api-core<2dev,>=1.21.0->google-api-python-client>=1.2->PyDrive) (2.23.0)\n",
            "Requirement already satisfied: pytz in /usr/local/lib/python3.7/dist-packages (from google-api-core<2dev,>=1.21.0->google-api-python-client>=1.2->PyDrive) (2018.9)\n",
            "Requirement already satisfied: packaging>=14.3 in /usr/local/lib/python3.7/dist-packages (from google-api-core<2dev,>=1.21.0->google-api-python-client>=1.2->PyDrive) (21.0)\n",
            "Requirement already satisfied: setuptools>=40.3.0 in /usr/local/lib/python3.7/dist-packages (from google-api-core<2dev,>=1.21.0->google-api-python-client>=1.2->PyDrive) (57.4.0)\n",
            "Requirement already satisfied: googleapis-common-protos<2.0dev,>=1.6.0 in /usr/local/lib/python3.7/dist-packages (from google-api-core<2dev,>=1.21.0->google-api-python-client>=1.2->PyDrive) (1.53.0)\n",
            "Requirement already satisfied: protobuf>=3.12.0 in /usr/local/lib/python3.7/dist-packages (from google-api-core<2dev,>=1.21.0->google-api-python-client>=1.2->PyDrive) (3.17.3)\n",
            "Requirement already satisfied: rsa<5,>=3.1.4 in /usr/local/lib/python3.7/dist-packages (from google-auth>=1.16.0->google-api-python-client>=1.2->PyDrive) (4.7.2)\n",
            "Requirement already satisfied: pyasn1-modules>=0.2.1 in /usr/local/lib/python3.7/dist-packages (from google-auth>=1.16.0->google-api-python-client>=1.2->PyDrive) (0.2.8)\n",
            "Requirement already satisfied: cachetools<5.0,>=2.0.0 in /usr/local/lib/python3.7/dist-packages (from google-auth>=1.16.0->google-api-python-client>=1.2->PyDrive) (4.2.2)\n",
            "Requirement already satisfied: pyasn1>=0.1.7 in /usr/local/lib/python3.7/dist-packages (from oauth2client>=4.0.0->PyDrive) (0.4.8)\n",
            "Requirement already satisfied: pyparsing>=2.0.2 in /usr/local/lib/python3.7/dist-packages (from packaging>=14.3->google-api-core<2dev,>=1.21.0->google-api-python-client>=1.2->PyDrive) (2.4.7)\n",
            "Requirement already satisfied: certifi>=2017.4.17 in /usr/local/lib/python3.7/dist-packages (from requests<3.0.0dev,>=2.18.0->google-api-core<2dev,>=1.21.0->google-api-python-client>=1.2->PyDrive) (2021.5.30)\n",
            "Requirement already satisfied: urllib3!=1.25.0,!=1.25.1,<1.26,>=1.21.1 in /usr/local/lib/python3.7/dist-packages (from requests<3.0.0dev,>=2.18.0->google-api-core<2dev,>=1.21.0->google-api-python-client>=1.2->PyDrive) (1.24.3)\n",
            "Requirement already satisfied: idna<3,>=2.5 in /usr/local/lib/python3.7/dist-packages (from requests<3.0.0dev,>=2.18.0->google-api-core<2dev,>=1.21.0->google-api-python-client>=1.2->PyDrive) (2.10)\n",
            "Requirement already satisfied: chardet<4,>=3.0.2 in /usr/local/lib/python3.7/dist-packages (from requests<3.0.0dev,>=2.18.0->google-api-core<2dev,>=1.21.0->google-api-python-client>=1.2->PyDrive) (3.0.4)\n"
          ]
        }
      ]
    },
    {
      "cell_type": "code",
      "metadata": {
        "id": "osP9dVT02_m1"
      },
      "source": [
        "auth.authenticate_user()\n",
        "gauth = GoogleAuth()\n",
        "gauth.credentials = GoogleCredentials.get_application_default()\n",
        "drive = GoogleDrive(gauth)"
      ],
      "execution_count": 4,
      "outputs": []
    },
    {
      "cell_type": "code",
      "metadata": {
        "id": "rYrU50rO2nN6"
      },
      "source": [
        "downloaded = drive.CreateFile({'id':\"1wrk4vvTxnp1_3Ftx7qp9uo4IUNBWPAA8\"}) \n",
        "downloaded.GetContentFile('covid.csv')\n",
        "\n",
        "# Finally we can actually read in the data.\n",
        "data = pd.read_csv('covid.csv')"
      ],
      "execution_count": 5,
      "outputs": []
    },
    {
      "cell_type": "markdown",
      "metadata": {
        "id": "sHNDhkPRP904"
      },
      "source": [
        "### Part 1) Data preparation\n",
        "\n",
        "In this part you will complete the following steps to prepare your data for training:\n",
        "\n",
        "*   Understand the data,\n",
        "*   Separate label from features,\n",
        "*   Normalize features, and\n",
        "*   Split the data into train and test (and later validation)\n"
      ]
    },
    {
      "cell_type": "markdown",
      "metadata": {
        "id": "DmsZCIQ3CdLw"
      },
      "source": [
        "Understand the *data*"
      ]
    },
    {
      "cell_type": "code",
      "metadata": {
        "id": "In1taJA5Erpf",
        "outputId": "100bb91e-ba6c-4df3-d181-64c97ed5fba4",
        "colab": {
          "base_uri": "https://localhost:8080/"
        }
      },
      "source": [
        "data.columns"
      ],
      "execution_count": 139,
      "outputs": [
        {
          "output_type": "execute_result",
          "data": {
            "text/plain": [
              "Index(['id', 'AL', 'AK', 'AZ', 'AR', 'CA', 'CO', 'CT', 'FL', 'GA', 'ID', 'IL',\n",
              "       'IN', 'IA', 'KS', 'KY', 'LA', 'MD', 'MA', 'MI', 'MN', 'MS', 'MO', 'NE',\n",
              "       'NV', 'NJ', 'NM', 'NY', 'NC', 'OH', 'OK', 'OR', 'PA', 'RI', 'SC', 'TX',\n",
              "       'UT', 'VA', 'WA', 'WV', 'WI', 'cli', 'ili', 'hh_cmnty_cli',\n",
              "       'nohh_cmnty_cli', 'wearing_mask', 'travel_outside_state',\n",
              "       'work_outside_home', 'shop', 'restaurant', 'spent_time', 'large_event',\n",
              "       'public_transit', 'anxious', 'depressed', 'felt_isolated',\n",
              "       'worried_become_ill', 'worried_finances', 'tested_positive', 'cli.1',\n",
              "       'ili.1', 'hh_cmnty_cli.1', 'nohh_cmnty_cli.1', 'wearing_mask.1',\n",
              "       'travel_outside_state.1', 'work_outside_home.1', 'shop.1',\n",
              "       'restaurant.1', 'spent_time.1', 'large_event.1', 'public_transit.1',\n",
              "       'anxious.1', 'depressed.1', 'felt_isolated.1', 'worried_become_ill.1',\n",
              "       'worried_finances.1', 'tested_positive.1', 'cli.2', 'ili.2',\n",
              "       'hh_cmnty_cli.2', 'nohh_cmnty_cli.2', 'wearing_mask.2',\n",
              "       'travel_outside_state.2', 'work_outside_home.2', 'shop.2',\n",
              "       'restaurant.2', 'spent_time.2', 'large_event.2', 'public_transit.2',\n",
              "       'anxious.2', 'depressed.2', 'felt_isolated.2', 'worried_become_ill.2',\n",
              "       'worried_finances.2', 'tested_positive.2'],\n",
              "      dtype='object')"
            ]
          },
          "metadata": {},
          "execution_count": 139
        }
      ]
    },
    {
      "cell_type": "code",
      "metadata": {
        "id": "drSQdVltQzaG",
        "outputId": "693ff2e0-be7c-4a1d-abca-28b7e53fdf9f",
        "colab": {
          "base_uri": "https://localhost:8080/",
          "height": 224
        }
      },
      "source": [
        "## YOUR CODE HERE ##\n",
        "print('40 States Information')\n",
        "pd.set_option(\"display.max_columns\", len(data.columns))\n",
        "data.iloc[-5:,1:41]\n",
        "#train=data.sample(frac=0.9,random_state=200) #random state is a seed value\n",
        "#test=data.drop(train.index)"
      ],
      "execution_count": 127,
      "outputs": [
        {
          "output_type": "stream",
          "name": "stdout",
          "text": [
            "40 States Information\n"
          ]
        },
        {
          "output_type": "execute_result",
          "data": {
            "text/html": [
              "<div>\n",
              "<style scoped>\n",
              "    .dataframe tbody tr th:only-of-type {\n",
              "        vertical-align: middle;\n",
              "    }\n",
              "\n",
              "    .dataframe tbody tr th {\n",
              "        vertical-align: top;\n",
              "    }\n",
              "\n",
              "    .dataframe thead th {\n",
              "        text-align: right;\n",
              "    }\n",
              "</style>\n",
              "<table border=\"1\" class=\"dataframe\">\n",
              "  <thead>\n",
              "    <tr style=\"text-align: right;\">\n",
              "      <th></th>\n",
              "      <th>AL</th>\n",
              "      <th>AK</th>\n",
              "      <th>AZ</th>\n",
              "      <th>AR</th>\n",
              "      <th>CA</th>\n",
              "      <th>CO</th>\n",
              "      <th>CT</th>\n",
              "      <th>FL</th>\n",
              "      <th>GA</th>\n",
              "      <th>ID</th>\n",
              "      <th>IL</th>\n",
              "      <th>IN</th>\n",
              "      <th>IA</th>\n",
              "      <th>KS</th>\n",
              "      <th>KY</th>\n",
              "      <th>LA</th>\n",
              "      <th>MD</th>\n",
              "      <th>MA</th>\n",
              "      <th>MI</th>\n",
              "      <th>MN</th>\n",
              "      <th>MS</th>\n",
              "      <th>MO</th>\n",
              "      <th>NE</th>\n",
              "      <th>NV</th>\n",
              "      <th>NJ</th>\n",
              "      <th>NM</th>\n",
              "      <th>NY</th>\n",
              "      <th>NC</th>\n",
              "      <th>OH</th>\n",
              "      <th>OK</th>\n",
              "      <th>OR</th>\n",
              "      <th>PA</th>\n",
              "      <th>RI</th>\n",
              "      <th>SC</th>\n",
              "      <th>TX</th>\n",
              "      <th>UT</th>\n",
              "      <th>VA</th>\n",
              "      <th>WA</th>\n",
              "      <th>WV</th>\n",
              "      <th>WI</th>\n",
              "    </tr>\n",
              "  </thead>\n",
              "  <tbody>\n",
              "    <tr>\n",
              "      <th>2695</th>\n",
              "      <td>0.0</td>\n",
              "      <td>0.0</td>\n",
              "      <td>0.0</td>\n",
              "      <td>0.0</td>\n",
              "      <td>0.0</td>\n",
              "      <td>0.0</td>\n",
              "      <td>0.0</td>\n",
              "      <td>0.0</td>\n",
              "      <td>0.0</td>\n",
              "      <td>0.0</td>\n",
              "      <td>0.0</td>\n",
              "      <td>0.0</td>\n",
              "      <td>0.0</td>\n",
              "      <td>0.0</td>\n",
              "      <td>0.0</td>\n",
              "      <td>0.0</td>\n",
              "      <td>0.0</td>\n",
              "      <td>0.0</td>\n",
              "      <td>0.0</td>\n",
              "      <td>0.0</td>\n",
              "      <td>0.0</td>\n",
              "      <td>0.0</td>\n",
              "      <td>0.0</td>\n",
              "      <td>0.0</td>\n",
              "      <td>0.0</td>\n",
              "      <td>0.0</td>\n",
              "      <td>0.0</td>\n",
              "      <td>0.0</td>\n",
              "      <td>0.0</td>\n",
              "      <td>0.0</td>\n",
              "      <td>0.0</td>\n",
              "      <td>0.0</td>\n",
              "      <td>0.0</td>\n",
              "      <td>0.0</td>\n",
              "      <td>0.0</td>\n",
              "      <td>0.0</td>\n",
              "      <td>0.0</td>\n",
              "      <td>0.0</td>\n",
              "      <td>0.0</td>\n",
              "      <td>1.0</td>\n",
              "    </tr>\n",
              "    <tr>\n",
              "      <th>2696</th>\n",
              "      <td>0.0</td>\n",
              "      <td>0.0</td>\n",
              "      <td>0.0</td>\n",
              "      <td>0.0</td>\n",
              "      <td>0.0</td>\n",
              "      <td>0.0</td>\n",
              "      <td>0.0</td>\n",
              "      <td>0.0</td>\n",
              "      <td>0.0</td>\n",
              "      <td>0.0</td>\n",
              "      <td>0.0</td>\n",
              "      <td>0.0</td>\n",
              "      <td>0.0</td>\n",
              "      <td>0.0</td>\n",
              "      <td>0.0</td>\n",
              "      <td>0.0</td>\n",
              "      <td>0.0</td>\n",
              "      <td>0.0</td>\n",
              "      <td>0.0</td>\n",
              "      <td>0.0</td>\n",
              "      <td>0.0</td>\n",
              "      <td>0.0</td>\n",
              "      <td>0.0</td>\n",
              "      <td>0.0</td>\n",
              "      <td>0.0</td>\n",
              "      <td>0.0</td>\n",
              "      <td>0.0</td>\n",
              "      <td>0.0</td>\n",
              "      <td>0.0</td>\n",
              "      <td>0.0</td>\n",
              "      <td>0.0</td>\n",
              "      <td>0.0</td>\n",
              "      <td>0.0</td>\n",
              "      <td>0.0</td>\n",
              "      <td>0.0</td>\n",
              "      <td>0.0</td>\n",
              "      <td>0.0</td>\n",
              "      <td>0.0</td>\n",
              "      <td>0.0</td>\n",
              "      <td>1.0</td>\n",
              "    </tr>\n",
              "    <tr>\n",
              "      <th>2697</th>\n",
              "      <td>0.0</td>\n",
              "      <td>0.0</td>\n",
              "      <td>0.0</td>\n",
              "      <td>0.0</td>\n",
              "      <td>0.0</td>\n",
              "      <td>0.0</td>\n",
              "      <td>0.0</td>\n",
              "      <td>0.0</td>\n",
              "      <td>0.0</td>\n",
              "      <td>0.0</td>\n",
              "      <td>0.0</td>\n",
              "      <td>0.0</td>\n",
              "      <td>0.0</td>\n",
              "      <td>0.0</td>\n",
              "      <td>0.0</td>\n",
              "      <td>0.0</td>\n",
              "      <td>0.0</td>\n",
              "      <td>0.0</td>\n",
              "      <td>0.0</td>\n",
              "      <td>0.0</td>\n",
              "      <td>0.0</td>\n",
              "      <td>0.0</td>\n",
              "      <td>0.0</td>\n",
              "      <td>0.0</td>\n",
              "      <td>0.0</td>\n",
              "      <td>0.0</td>\n",
              "      <td>0.0</td>\n",
              "      <td>0.0</td>\n",
              "      <td>0.0</td>\n",
              "      <td>0.0</td>\n",
              "      <td>0.0</td>\n",
              "      <td>0.0</td>\n",
              "      <td>0.0</td>\n",
              "      <td>0.0</td>\n",
              "      <td>0.0</td>\n",
              "      <td>0.0</td>\n",
              "      <td>0.0</td>\n",
              "      <td>0.0</td>\n",
              "      <td>0.0</td>\n",
              "      <td>1.0</td>\n",
              "    </tr>\n",
              "    <tr>\n",
              "      <th>2698</th>\n",
              "      <td>0.0</td>\n",
              "      <td>0.0</td>\n",
              "      <td>0.0</td>\n",
              "      <td>0.0</td>\n",
              "      <td>0.0</td>\n",
              "      <td>0.0</td>\n",
              "      <td>0.0</td>\n",
              "      <td>0.0</td>\n",
              "      <td>0.0</td>\n",
              "      <td>0.0</td>\n",
              "      <td>0.0</td>\n",
              "      <td>0.0</td>\n",
              "      <td>0.0</td>\n",
              "      <td>0.0</td>\n",
              "      <td>0.0</td>\n",
              "      <td>0.0</td>\n",
              "      <td>0.0</td>\n",
              "      <td>0.0</td>\n",
              "      <td>0.0</td>\n",
              "      <td>0.0</td>\n",
              "      <td>0.0</td>\n",
              "      <td>0.0</td>\n",
              "      <td>0.0</td>\n",
              "      <td>0.0</td>\n",
              "      <td>0.0</td>\n",
              "      <td>0.0</td>\n",
              "      <td>0.0</td>\n",
              "      <td>0.0</td>\n",
              "      <td>0.0</td>\n",
              "      <td>0.0</td>\n",
              "      <td>0.0</td>\n",
              "      <td>0.0</td>\n",
              "      <td>0.0</td>\n",
              "      <td>0.0</td>\n",
              "      <td>0.0</td>\n",
              "      <td>0.0</td>\n",
              "      <td>0.0</td>\n",
              "      <td>0.0</td>\n",
              "      <td>0.0</td>\n",
              "      <td>1.0</td>\n",
              "    </tr>\n",
              "    <tr>\n",
              "      <th>2699</th>\n",
              "      <td>0.0</td>\n",
              "      <td>0.0</td>\n",
              "      <td>0.0</td>\n",
              "      <td>0.0</td>\n",
              "      <td>0.0</td>\n",
              "      <td>0.0</td>\n",
              "      <td>0.0</td>\n",
              "      <td>0.0</td>\n",
              "      <td>0.0</td>\n",
              "      <td>0.0</td>\n",
              "      <td>0.0</td>\n",
              "      <td>0.0</td>\n",
              "      <td>0.0</td>\n",
              "      <td>0.0</td>\n",
              "      <td>0.0</td>\n",
              "      <td>0.0</td>\n",
              "      <td>0.0</td>\n",
              "      <td>0.0</td>\n",
              "      <td>0.0</td>\n",
              "      <td>0.0</td>\n",
              "      <td>0.0</td>\n",
              "      <td>0.0</td>\n",
              "      <td>0.0</td>\n",
              "      <td>0.0</td>\n",
              "      <td>0.0</td>\n",
              "      <td>0.0</td>\n",
              "      <td>0.0</td>\n",
              "      <td>0.0</td>\n",
              "      <td>0.0</td>\n",
              "      <td>0.0</td>\n",
              "      <td>0.0</td>\n",
              "      <td>0.0</td>\n",
              "      <td>0.0</td>\n",
              "      <td>0.0</td>\n",
              "      <td>0.0</td>\n",
              "      <td>0.0</td>\n",
              "      <td>0.0</td>\n",
              "      <td>0.0</td>\n",
              "      <td>0.0</td>\n",
              "      <td>1.0</td>\n",
              "    </tr>\n",
              "  </tbody>\n",
              "</table>\n",
              "</div>"
            ],
            "text/plain": [
              "       AL   AK   AZ   AR   CA   CO   CT   FL   GA   ID   IL   IN   IA   KS  \\\n",
              "2695  0.0  0.0  0.0  0.0  0.0  0.0  0.0  0.0  0.0  0.0  0.0  0.0  0.0  0.0   \n",
              "2696  0.0  0.0  0.0  0.0  0.0  0.0  0.0  0.0  0.0  0.0  0.0  0.0  0.0  0.0   \n",
              "2697  0.0  0.0  0.0  0.0  0.0  0.0  0.0  0.0  0.0  0.0  0.0  0.0  0.0  0.0   \n",
              "2698  0.0  0.0  0.0  0.0  0.0  0.0  0.0  0.0  0.0  0.0  0.0  0.0  0.0  0.0   \n",
              "2699  0.0  0.0  0.0  0.0  0.0  0.0  0.0  0.0  0.0  0.0  0.0  0.0  0.0  0.0   \n",
              "\n",
              "       KY   LA   MD   MA   MI   MN   MS   MO   NE   NV   NJ   NM   NY   NC  \\\n",
              "2695  0.0  0.0  0.0  0.0  0.0  0.0  0.0  0.0  0.0  0.0  0.0  0.0  0.0  0.0   \n",
              "2696  0.0  0.0  0.0  0.0  0.0  0.0  0.0  0.0  0.0  0.0  0.0  0.0  0.0  0.0   \n",
              "2697  0.0  0.0  0.0  0.0  0.0  0.0  0.0  0.0  0.0  0.0  0.0  0.0  0.0  0.0   \n",
              "2698  0.0  0.0  0.0  0.0  0.0  0.0  0.0  0.0  0.0  0.0  0.0  0.0  0.0  0.0   \n",
              "2699  0.0  0.0  0.0  0.0  0.0  0.0  0.0  0.0  0.0  0.0  0.0  0.0  0.0  0.0   \n",
              "\n",
              "       OH   OK   OR   PA   RI   SC   TX   UT   VA   WA   WV   WI  \n",
              "2695  0.0  0.0  0.0  0.0  0.0  0.0  0.0  0.0  0.0  0.0  0.0  1.0  \n",
              "2696  0.0  0.0  0.0  0.0  0.0  0.0  0.0  0.0  0.0  0.0  0.0  1.0  \n",
              "2697  0.0  0.0  0.0  0.0  0.0  0.0  0.0  0.0  0.0  0.0  0.0  1.0  \n",
              "2698  0.0  0.0  0.0  0.0  0.0  0.0  0.0  0.0  0.0  0.0  0.0  1.0  \n",
              "2699  0.0  0.0  0.0  0.0  0.0  0.0  0.0  0.0  0.0  0.0  0.0  1.0  "
            ]
          },
          "metadata": {},
          "execution_count": 127
        }
      ]
    },
    {
      "cell_type": "code",
      "metadata": {
        "id": "1KIdEnc0Ayge",
        "outputId": "43f809c9-3762-4d7c-e1c4-a14836747a29",
        "colab": {
          "base_uri": "https://localhost:8080/",
          "height": 224
        }
      },
      "source": [
        "print('4 Features Covid-like illnesses')\n",
        "pd.set_option(\"display.max_columns\", len(data.columns))\n",
        "data.iloc[-5:,41:45]"
      ],
      "execution_count": 131,
      "outputs": [
        {
          "output_type": "stream",
          "name": "stdout",
          "text": [
            "4 Features Covid-like illnesses\n"
          ]
        },
        {
          "output_type": "execute_result",
          "data": {
            "text/html": [
              "<div>\n",
              "<style scoped>\n",
              "    .dataframe tbody tr th:only-of-type {\n",
              "        vertical-align: middle;\n",
              "    }\n",
              "\n",
              "    .dataframe tbody tr th {\n",
              "        vertical-align: top;\n",
              "    }\n",
              "\n",
              "    .dataframe thead th {\n",
              "        text-align: right;\n",
              "    }\n",
              "</style>\n",
              "<table border=\"1\" class=\"dataframe\">\n",
              "  <thead>\n",
              "    <tr style=\"text-align: right;\">\n",
              "      <th></th>\n",
              "      <th>cli</th>\n",
              "      <th>ili</th>\n",
              "      <th>hh_cmnty_cli</th>\n",
              "      <th>nohh_cmnty_cli</th>\n",
              "    </tr>\n",
              "  </thead>\n",
              "  <tbody>\n",
              "    <tr>\n",
              "      <th>2695</th>\n",
              "      <td>0.655823</td>\n",
              "      <td>0.659976</td>\n",
              "      <td>25.265366</td>\n",
              "      <td>20.468897</td>\n",
              "    </tr>\n",
              "    <tr>\n",
              "      <th>2696</th>\n",
              "      <td>0.598352</td>\n",
              "      <td>0.602552</td>\n",
              "      <td>25.299465</td>\n",
              "      <td>20.756444</td>\n",
              "    </tr>\n",
              "    <tr>\n",
              "      <th>2697</th>\n",
              "      <td>0.586713</td>\n",
              "      <td>0.597559</td>\n",
              "      <td>25.271178</td>\n",
              "      <td>20.770195</td>\n",
              "    </tr>\n",
              "    <tr>\n",
              "      <th>2698</th>\n",
              "      <td>0.576435</td>\n",
              "      <td>0.595312</td>\n",
              "      <td>24.607461</td>\n",
              "      <td>20.176201</td>\n",
              "    </tr>\n",
              "    <tr>\n",
              "      <th>2699</th>\n",
              "      <td>0.562426</td>\n",
              "      <td>0.572969</td>\n",
              "      <td>24.020275</td>\n",
              "      <td>19.654514</td>\n",
              "    </tr>\n",
              "  </tbody>\n",
              "</table>\n",
              "</div>"
            ],
            "text/plain": [
              "           cli       ili  hh_cmnty_cli  nohh_cmnty_cli\n",
              "2695  0.655823  0.659976     25.265366       20.468897\n",
              "2696  0.598352  0.602552     25.299465       20.756444\n",
              "2697  0.586713  0.597559     25.271178       20.770195\n",
              "2698  0.576435  0.595312     24.607461       20.176201\n",
              "2699  0.562426  0.572969     24.020275       19.654514"
            ]
          },
          "metadata": {},
          "execution_count": 131
        }
      ]
    },
    {
      "cell_type": "code",
      "metadata": {
        "id": "NeigzowUDXfm",
        "outputId": "50af9f70-5e8b-4be1-95e6-6a87e0ab1709",
        "colab": {
          "base_uri": "https://localhost:8080/",
          "height": 224
        }
      },
      "source": [
        "print('8 Features Behavior indicators')\n",
        "pd.set_option(\"display.max_columns\", len(data.columns))\n",
        "data.iloc[-5:,45:54]"
      ],
      "execution_count": 136,
      "outputs": [
        {
          "output_type": "stream",
          "name": "stdout",
          "text": [
            "8 Features Behavior indicators\n"
          ]
        },
        {
          "output_type": "execute_result",
          "data": {
            "text/html": [
              "<div>\n",
              "<style scoped>\n",
              "    .dataframe tbody tr th:only-of-type {\n",
              "        vertical-align: middle;\n",
              "    }\n",
              "\n",
              "    .dataframe tbody tr th {\n",
              "        vertical-align: top;\n",
              "    }\n",
              "\n",
              "    .dataframe thead th {\n",
              "        text-align: right;\n",
              "    }\n",
              "</style>\n",
              "<table border=\"1\" class=\"dataframe\">\n",
              "  <thead>\n",
              "    <tr style=\"text-align: right;\">\n",
              "      <th></th>\n",
              "      <th>wearing_mask</th>\n",
              "      <th>travel_outside_state</th>\n",
              "      <th>work_outside_home</th>\n",
              "      <th>shop</th>\n",
              "      <th>restaurant</th>\n",
              "      <th>spent_time</th>\n",
              "      <th>large_event</th>\n",
              "      <th>public_transit</th>\n",
              "      <th>anxious</th>\n",
              "    </tr>\n",
              "  </thead>\n",
              "  <tbody>\n",
              "    <tr>\n",
              "      <th>2695</th>\n",
              "      <td>91.011756</td>\n",
              "      <td>6.801897</td>\n",
              "      <td>32.727184</td>\n",
              "      <td>50.265694</td>\n",
              "      <td>15.188547</td>\n",
              "      <td>31.597793</td>\n",
              "      <td>8.013637</td>\n",
              "      <td>1.768811</td>\n",
              "      <td>14.699027</td>\n",
              "    </tr>\n",
              "    <tr>\n",
              "      <th>2696</th>\n",
              "      <td>90.682057</td>\n",
              "      <td>7.152368</td>\n",
              "      <td>33.638563</td>\n",
              "      <td>50.050349</td>\n",
              "      <td>15.462823</td>\n",
              "      <td>31.656358</td>\n",
              "      <td>8.239559</td>\n",
              "      <td>1.789015</td>\n",
              "      <td>14.808636</td>\n",
              "    </tr>\n",
              "    <tr>\n",
              "      <th>2697</th>\n",
              "      <td>90.866100</td>\n",
              "      <td>6.857209</td>\n",
              "      <td>33.959012</td>\n",
              "      <td>50.024971</td>\n",
              "      <td>15.090116</td>\n",
              "      <td>30.839219</td>\n",
              "      <td>7.849525</td>\n",
              "      <td>1.760094</td>\n",
              "      <td>14.617563</td>\n",
              "    </tr>\n",
              "    <tr>\n",
              "      <th>2698</th>\n",
              "      <td>90.846126</td>\n",
              "      <td>6.851475</td>\n",
              "      <td>33.932384</td>\n",
              "      <td>49.885129</td>\n",
              "      <td>14.779264</td>\n",
              "      <td>30.617100</td>\n",
              "      <td>7.754800</td>\n",
              "      <td>1.780730</td>\n",
              "      <td>14.513419</td>\n",
              "    </tr>\n",
              "    <tr>\n",
              "      <th>2699</th>\n",
              "      <td>90.928655</td>\n",
              "      <td>6.642911</td>\n",
              "      <td>33.822577</td>\n",
              "      <td>50.056772</td>\n",
              "      <td>14.961085</td>\n",
              "      <td>30.595194</td>\n",
              "      <td>7.744075</td>\n",
              "      <td>1.921828</td>\n",
              "      <td>14.160990</td>\n",
              "    </tr>\n",
              "  </tbody>\n",
              "</table>\n",
              "</div>"
            ],
            "text/plain": [
              "      wearing_mask  travel_outside_state  work_outside_home       shop  \\\n",
              "2695     91.011756              6.801897          32.727184  50.265694   \n",
              "2696     90.682057              7.152368          33.638563  50.050349   \n",
              "2697     90.866100              6.857209          33.959012  50.024971   \n",
              "2698     90.846126              6.851475          33.932384  49.885129   \n",
              "2699     90.928655              6.642911          33.822577  50.056772   \n",
              "\n",
              "      restaurant  spent_time  large_event  public_transit    anxious  \n",
              "2695   15.188547   31.597793     8.013637        1.768811  14.699027  \n",
              "2696   15.462823   31.656358     8.239559        1.789015  14.808636  \n",
              "2697   15.090116   30.839219     7.849525        1.760094  14.617563  \n",
              "2698   14.779264   30.617100     7.754800        1.780730  14.513419  \n",
              "2699   14.961085   30.595194     7.744075        1.921828  14.160990  "
            ]
          },
          "metadata": {},
          "execution_count": 136
        }
      ]
    },
    {
      "cell_type": "markdown",
      "metadata": {
        "id": "HWDo5FKLTe4P"
      },
      "source": [
        "### Part 2) Hyperparameeters and neural network training\n",
        "\n",
        "In this part you will be implementing a neural network and will investigate the impact of hyperparameters in model's performance.\n",
        "\n",
        "1.   Train a neural network with 2 layers (one hidden layer and one output layer).\n",
        "2.   Search for the most appropriate hyperparameter setting for your model. These hyperparameters include but not limited to (number of epochs, batch size, learning rate, optimizer, momentum).\n",
        "3. Describe your findings in the text cell below."
      ]
    },
    {
      "cell_type": "code",
      "metadata": {
        "id": "G99JWIfWVvn_"
      },
      "source": [
        "## YOUR CODE HERE ##"
      ],
      "execution_count": 7,
      "outputs": []
    },
    {
      "cell_type": "markdown",
      "metadata": {
        "id": "LXePNMzFbgVb"
      },
      "source": [
        "[YOUR ANSWER HERE]"
      ]
    },
    {
      "cell_type": "markdown",
      "metadata": {
        "id": "miGfdMIvQ3Qf"
      },
      "source": [
        "### Part 3) Understanding neural network architecture\n",
        "\n",
        "In this part you will experiment with different deep neural network architectures to understand the impact of the architecture on model's accuracy and generalization.\n",
        "\n",
        "1.   Run an experiment on a 2-layer neural network to investigate the impact of the number of neurons in the hidden layer on model's performance on the training and test data. Plot the result of your experiment.\n",
        "\n",
        "2. Run the same experiment as the previous part but use depth 3 (2 hidden layers and one output layer). Plot the result of your experiment.\n",
        "\n",
        "3.   Run an experiment on the impact of the depth of the model on model's performance on the training and test data. For this experiment, use 5 neurons in each hidden layer. Plot the result of your experiment.\n",
        "\n",
        "4. Describe your findings in the text cell below.\n",
        "\n",
        "\n"
      ]
    },
    {
      "cell_type": "code",
      "metadata": {
        "id": "IFKDJdEQVwCU"
      },
      "source": [
        "## YOUR CODE HERE ##"
      ],
      "execution_count": 8,
      "outputs": []
    },
    {
      "cell_type": "markdown",
      "metadata": {
        "id": "x5-tcdMJbm3O"
      },
      "source": [
        "[YOUR ANSWER HERE]"
      ]
    },
    {
      "cell_type": "markdown",
      "metadata": {
        "id": "Qb5SfS68WQvQ"
      },
      "source": [
        "### Part 4) Feature selection and final results\n",
        "\n",
        "Since the number of feeatures will impact model's complexity and that not all features contribute equally to the model's performance, in this part you are asked to perform feature selection, model training, and reporting final results.\n",
        "\n",
        "Your tasks are:\n",
        "1.   Based on the experiments you have conducted (and looking into the weights associated to features), perform feature selection.\n",
        "2. Train an optimum neural network architecture (you will need to do some experiments to find it) with appropriate hyperparameters (you will need to do hyperparameter tuning).\n",
        "3. Report the Loss of your model on both training and test data. In addition, plot the prediction vs. target labels for both training and test data.\n"
      ]
    },
    {
      "cell_type": "code",
      "metadata": {
        "id": "0T_N-dWYbN6G"
      },
      "source": [
        "## YOUR CODE HERE ##"
      ],
      "execution_count": 9,
      "outputs": []
    },
    {
      "cell_type": "markdown",
      "metadata": {
        "id": "Oqbisi5bbpMB"
      },
      "source": [
        "[YOUR ANSWER HERE]"
      ]
    },
    {
      "cell_type": "markdown",
      "metadata": {
        "id": "Oh5IQlNTamT5"
      },
      "source": [
        "### Part 5) State-specific prediction\n",
        "\n",
        "Thinking about the structure of the data, please provide a description of technique(s) you can use to perform predictions for a given State based on its own data (which reduces the bias in prediction). "
      ]
    },
    {
      "cell_type": "markdown",
      "metadata": {
        "id": "7zc3hT0obP3X"
      },
      "source": [
        "[YOUR ANSWER HERE]"
      ]
    },
    {
      "cell_type": "markdown",
      "metadata": {
        "id": "hzmVLx9Abq1U"
      },
      "source": [
        "### (BONUS) Part 6) Implement one of your responses to the previous part for an extra credit\n",
        "\n",
        "To receive an extra credit, you should show the performance boost you observed for the State-specific architecture. "
      ]
    },
    {
      "cell_type": "code",
      "metadata": {
        "id": "UhXEnshFbOam"
      },
      "source": [
        "## YOUR CODE HERE ##"
      ],
      "execution_count": 10,
      "outputs": []
    }
  ]
}